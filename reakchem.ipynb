{
 "cells": [
  {
   "cell_type": "markdown",
   "id": "3d3765fa",
   "metadata": {},
   "source": [
    "# The microservice in Python to run the reaction SMARTS on reactants supplied in SMILES"
   ]
  },
  {
   "cell_type": "code",
   "execution_count": null,
   "id": "2c727e09",
   "metadata": {},
   "outputs": [],
   "source": [
    "#loading the packages\n",
    "from rdkit import Chem\n",
    "from rdkit import rdBase\n",
    "from rdkit.Chem import Draw\n",
    "from rdkit.Chem.Draw import IPythonConsole\n",
    "from rdkit.Chem import rdChemReactions\n",
    "from rdkit.Chem import AllChem\n",
    "from rdkit.Chem import rdMolDescriptors\n",
    "from itertools import chain"
   ]
  },
  {
   "cell_type": "code",
   "execution_count": null,
   "id": "769c4622",
   "metadata": {},
   "outputs": [],
   "source": [
    "#data input from command line\n",
    "smiles_reactant = input('Enter molecule into the reaction in SMILES format: ')\n",
    "molecule = []\n",
    "molecule.append(smiles_reactant)\n",
    "\n",
    "#checking if the SMILES code and the molecules are ok\n",
    "m = Chem.MolFromSmiles(smiles_reactant,sanitize=False)\n",
    "if m is None:\n",
    "    print('Invalid! For more information check: https://en.wikipedia.org/wiki/Simplified_molecular-input_line-entry_system ')\n",
    "else:\n",
    "    print('\\n The SMILES code is OK! We can proceed :)\\n')\n",
    "\n",
    "z = Chem.MolFromSmiles(smiles_reactant)\n",
    "if z is None:\n",
    "  print('invalid! For more information check: https://en.wikipedia.org/wiki/Simplified_molecular-input_line-entry_system ')\n",
    "else:\n",
    "    print('\\n The molecule is chemically reasonable! We can proceed :) \\n')\n",
    "\n",
    "\n",
    "mols = [Chem.MolFromSmiles(smi) for smi in molecule]\n",
    "\n",
    "print('For detailed information about SMARTS format check: https://www.daylight.com/dayhtml/doc/theory/theory.smarts.html')\n",
    "reaction_smarts = input('\\nPlease provide the reaction in SMARTS format: ')\n",
    "\n",
    "# Convert the SMILES reactant string to a molecule object\n",
    "reactant_mol = AllChem.MolFromSmiles(smiles_reactant)\n",
    "\n",
    "# Convert the SMARTS reaction string to a reaction object\n",
    "reaction = AllChem.ReactionFromSmarts(reaction_smarts)\n",
    "\n",
    "# Get the reactant and product parts of the reaction\n",
    "reactant_smarts, product_smarts = AllChem.ReactionToSmarts(reaction).split(\">>\")\n",
    "\n",
    "# Find the matches between the reactant in the SMILES format and the reactant from the SMARTS reaction\n",
    "matches = reactant_mol.GetSubstructMatches(Chem.MolFromSmarts(reactant_smarts))\n",
    "# Check if there are any matches between the reactant in the SMILES format and the reactant from the SMARTS reaction\n",
    "if len(matches) > 0:\n",
    "    print(\"Reactant in SMILES format is consistent with reactant from SMARTS reaction.\")\n",
    "else:\n",
    "    print(\"Reactant in SMILES format is not consistent with reactant from SMARTS reaction.\")\n",
    "    \n",
    "\n",
    "# helper functions to avoid typing the same thing over and over\n",
    "def to_smiles(mol_tuple):\n",
    "    return tuple(Chem.MolToSmiles(mol) for mol in mol_tuple)\n",
    "\n",
    "def from_smiles(smiles_tuple):\n",
    "    return tuple(Chem.MolFromSmiles(smiles) for smiles in smiles_tuple)\n",
    "reaction = AllChem.ReactionFromSmarts(reaction_smarts)\n",
    "\n",
    "    \n",
    "all_products_tuples = [reaction.RunReactants((mol, )) for mol in mols]\n",
    "all_products = chain.from_iterable(all_products_tuples)\n",
    "\n",
    "# convert to smiles and back to keep only unique products\n",
    "all_products_smiles = [to_smiles(mol_tuple) for mol_tuple in all_products]\n",
    "all_products_unique = [from_smiles(smiles_tuple) for smiles_tuple in set(all_products_smiles)]\n",
    "nProductSets = len(all_products_unique)\n",
    "print(\"\\nNumber of unique product sets:\",nProductSets)\n",
    "\n",
    "# draw each product set on its own line\n",
    "prod_tpl = tuple(chain(*all_products_unique))\n",
    "Draw.MolsToGridImage(prod_tpl,maxMols=10,molsPerRow=reaction.GetNumProductTemplates())"
   ]
  }
 ],
 "metadata": {
  "kernelspec": {
   "display_name": "Python 3 (ipykernel)",
   "language": "python",
   "name": "python3"
  },
  "language_info": {
   "codemirror_mode": {
    "name": "ipython",
    "version": 3
   },
   "file_extension": ".py",
   "mimetype": "text/x-python",
   "name": "python",
   "nbconvert_exporter": "python",
   "pygments_lexer": "ipython3",
   "version": "3.11.0"
  }
 },
 "nbformat": 4,
 "nbformat_minor": 5
}
